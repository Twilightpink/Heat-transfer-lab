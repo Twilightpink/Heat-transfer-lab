{
 "cells": [
  {
   "cell_type": "code",
   "execution_count": 2,
   "metadata": {},
   "outputs": [],
   "source": [
    "import numpy as np\n",
    "from matplotlib import pyplot as plt\n",
    "import pandas as pd"
   ]
  },
  {
   "cell_type": "code",
   "execution_count": 3,
   "metadata": {},
   "outputs": [],
   "source": [
    "#Given data\n",
    "ro = 0.019\n",
    "l = 0.14\n",
    "#brass\n",
    "rho_b = 8522          #kg/m3\n",
    "cp_b = 385            #J/Kg K\n",
    "k_b = 110.7           #W/m K\n",
    "alpha_b = k_b/(rho_b*cp_b)\n",
    "A = 2*np.pi*ro*l\n",
    "V = np.pi*(ro**2)*l\n"
   ]
  },
  {
   "cell_type": "code",
   "execution_count": 5,
   "metadata": {},
   "outputs": [],
   "source": [
    "#For Brass @ 67 degrees with agitator\n",
    "\n",
    "t_b1 = np.linspace(0,150,16)\n",
    "T_brass_1 = np.array([22.7,33,48.8,58,62.5,64,64.7,65.2,65.5,65.7,65.8,66,66,66,66,66])\n",
    "Ti_b1 = T_brass_1[0]\n",
    "T_inf_b1 = 67\n",
    "F_b1 = (alpha_b*t_b1)/(V/A)**2                          #Fourier number\n",
    "Te_b1 = (T_brass_1 - T_inf_b1) / (Ti_b1 - T_inf_b1)     #Te\n",
    "Bi_b1 = np.log(Te_b1[1:])/(-1*F_b1[1:])\n",
    "h_b1 = 2*k_b*Bi_b1/ro\n",
    "Qi_b1 = h_b1*A*(T_inf_b1 - Ti_b1)*np.exp(-1*Bi_b1*F_b1[1:])"
   ]
  },
  {
   "cell_type": "code",
   "execution_count": 6,
   "metadata": {},
   "outputs": [
    {
     "name": "stdout",
     "output_type": "stream",
     "text": [
      "    Time (t)        Te         Fo        Bi            h          Qi\n",
      "0       10.0  0.767494   3.738507  0.070783   824.812710  468.700878\n",
      "1       20.0  0.410835   7.477013  0.118973  1386.349149  421.701857\n",
      "2       30.0  0.203160  11.215520  0.142103  1655.875040  249.075823\n",
      "3       40.0  0.101580  14.954026  0.152929  1782.027618  134.025813\n",
      "4       50.0  0.067720  18.692533  0.144035  1678.382677   84.153803\n",
      "5       60.0  0.051919  22.431040  0.131874  1536.681549   59.070850\n",
      "6       70.0  0.040632  26.169546  0.122402  1426.302393   42.908726\n",
      "7       80.0  0.033860  29.908053  0.113198  1319.049842   33.068460\n",
      "8       90.0  0.029345  33.646559  0.104873  1222.048092   26.551750\n",
      "9      100.0  0.027088  37.385066  0.096527  1124.791967   22.558746\n",
      "10     110.0  0.022573  41.123573  0.092185  1074.200150   17.953400\n",
      "11     120.0  0.022573  44.862079  0.084503   984.683471   16.457284\n",
      "12     130.0  0.022573  48.600586  0.078003   908.938588   15.191339\n",
      "13     140.0  0.022573  52.339092  0.072431   844.014403   14.106243\n",
      "14     150.0  0.022573  56.077599  0.067602   787.746776   13.165827\n"
     ]
    }
   ],
   "source": [
    "br_67_a = pd.DataFrame({'Time (t)': t_b1[1:],\n",
    "                   'Te': Te_b1[1:],\n",
    "                  'Fo': F_b1[1:],\n",
    "                  'Bi':Bi_b1,\n",
    "                  'h':h_b1,\n",
    "                  'Qi':Qi_b1})\n",
    "print(br_67_a)"
   ]
  },
  {
   "cell_type": "code",
   "execution_count": 8,
   "metadata": {},
   "outputs": [],
   "source": [
    "#For Brass @ 67 degrees WITHOUT agitator\n",
    "t_b2 = np.linspace(0,240,25)\n",
    "T_brass_2 = np.array([22.8,28.5,37.2,44.3,48.8,52.5,55.1,57.5,59.2,60.4,61.3,62.2,62.9,63.4,63.8,64.2,64.6,64.8,65,\n",
    "                     65.1,65.2,65.4,65.5,65.5,65.5])\n",
    "Ti_b2 = T_brass_2[0]\n",
    "T_inf_b2 = 67\n",
    "F_b2 = (alpha_b*t_b2)/(V/A)**2                     #Fourier number\n",
    "Te_b2 = (T_brass_2 - T_inf_b2) / (Ti_b2 - T_inf_b2)\n",
    "Bi_b2 = np.log(Te_b2[1:])/(-1*F_b2[1:])             #Biot number\n",
    "h_b2 = 2*k_b*Bi_b2/ro\n",
    "Qi_b2 = h_b2*A*(T_inf_b2 - Ti_b2)*np.exp(-1*Bi_b2*F_b2[1:])"
   ]
  },
  {
   "cell_type": "code",
   "execution_count": 9,
   "metadata": {},
   "outputs": [
    {
     "name": "stdout",
     "output_type": "stream",
     "text": [
      "    Time (t)        Te         Fo        Bi           h          Qi\n",
      "0       10.0  0.871041   3.738507  0.036931  430.342591  276.908677\n",
      "1       20.0  0.674208   7.477013  0.052724  614.370780  305.990766\n",
      "2       30.0  0.513575  11.215520  0.059414  692.330463  262.664151\n",
      "3       40.0  0.411765  14.954026  0.059335  691.413601  210.315273\n",
      "4       50.0  0.328054  18.692533  0.059627  694.809267  168.381785\n",
      "5       60.0  0.269231  22.431040  0.058499  681.663661  135.574687\n",
      "6       70.0  0.214932  26.169546  0.058749  684.579706  108.694891\n",
      "7       80.0  0.176471  29.908053  0.057998  675.826915   88.103182\n",
      "8       90.0  0.149321  33.646559  0.056519  658.589977   72.647481\n",
      "9      100.0  0.128959  37.385066  0.054788  638.426131   60.820084\n",
      "10     110.0  0.108597  41.123573  0.053986  629.082279   50.467314\n",
      "11     120.0  0.092760  44.862079  0.053001  617.601843   42.320807\n",
      "12     130.0  0.081448  48.600586  0.051600  601.275962   36.177441\n",
      "13     140.0  0.072398  52.339092  0.050165  584.550570   31.263210\n",
      "14     150.0  0.063348  56.077599  0.049202  573.327657   26.830108\n",
      "15     160.0  0.054299  59.816105  0.048704  567.524401   22.764456\n",
      "16     170.0  0.049774  63.554612  0.047208  550.094003   20.226517\n",
      "17     180.0  0.045249  67.293119  0.046001  536.037356   17.917877\n",
      "18     190.0  0.042986  71.031625  0.044302  516.239451   16.393297\n",
      "19     200.0  0.040724  74.770132  0.042810  498.853643   15.007459\n",
      "20     210.0  0.036199  78.508638  0.042272  492.580635   13.172215\n",
      "21     220.0  0.033937  82.247145  0.041135  479.334311   12.016868\n",
      "22     230.0  0.033937  85.985652  0.039347  458.493689   11.494395\n",
      "23     240.0  0.033937  89.724158  0.037707  439.389785   11.015462\n"
     ]
    }
   ],
   "source": [
    "br_67_w = pd.DataFrame({'Time (t)': t_b2[1:],\n",
    "                   'Te': Te_b2[1:],\n",
    "                  'Fo': F_b2[1:],\n",
    "                  'Bi':Bi_b2,\n",
    "                  'h':h_b2,\n",
    "                  'Qi':Qi_b2})\n",
    "print(br_67_w)"
   ]
  },
  {
   "cell_type": "code",
   "execution_count": 22,
   "metadata": {},
   "outputs": [
    {
     "data": {
      "image/png": "[encoded data removed]",
      "text/plain": [
       "<Figure size 432x288 with 1 Axes>"
      ]
     },
     "metadata": {
      "needs_background": "light"
     },
     "output_type": "display_data"
    }
   ],
   "source": [
    "#graph for brass\n",
    "plt.plot(t_b2[1:],np.log(Te_b2[1:]),label=\"Without Agitator @ 67\",color=\"blue\")\n",
    "plt.plot(t_b1[1:],np.log(Te_b1[1:]),label=\"With Agitator @ 67\",color=\"red\")\n",
    "plt.title(\"ln(Te) vs time (s) for brass\")\n",
    "plt.xlabel(\"Time t(s)\")\n",
    "plt.ylabel(\"ln(Te)\")\n",
    "plt.grid()\n",
    "plt.legend()\n",
    "\n",
    "slope1, intercept1 = np.polyfit(t_b1[1:],np.log(Te_b1[1:]), 1)\n",
    "plt.plot(t_b1[1:], t_b1[1:]*slope1 + intercept1, '--',color=\"red\")\n",
    "\n",
    "slope2, intercept2 = np.polyfit(t_b2[1:],np.log(Te_b2[1:]), 1)\n",
    "plt.plot(t_b2[1:], t_b2[1:]*slope2 + intercept2, '--',color=\"blue\")\n",
    "\n",
    "plt.show()"
   ]
  },
  {
   "cell_type": "markdown",
   "metadata": {},
   "source": [
    "$$ Slope = -\\frac{h A}{\\rho C_{P} V}$$"
   ]
  },
  {
   "cell_type": "markdown",
   "metadata": {},
   "source": [
    "Please note that the graph does not contain the data point at t=0 as ln(0) is a math error !"
   ]
  },
  {
   "cell_type": "code",
   "execution_count": 24,
   "metadata": {},
   "outputs": [
    {
     "name": "stdout",
     "output_type": "stream",
     "text": [
      "The avg heat transfer coefficient for brass is 384.8200272928709 W/m2 C \n",
      "The heat transfer coefficients for 67 and 67 (no agitator) are 712.6386841929026,441.8213976857101 resp.\n",
      "The biot numbers for 67 and 67 (no agitator) are 0.06115688798403408, 0.037916018771583064 resp.\n"
     ]
    }
   ],
   "source": [
    "h1_b = -1*slope1*rho_b*cp_b*V/A      #without agitator\n",
    "h2_b = -1*slope2*rho_b*cp_b*V/A\n",
    "\n",
    "Bi_1 = h1_b*V/(A*k_b)\n",
    "Bi_2 = h2_b*V/(A*k_b)\n",
    "\n",
    "hb_avg = (h1_b + h2_b)/3\n",
    "print(\"The avg heat transfer coefficient for brass is {} W/m2 C \".format(hb_avg))\n",
    "print(\"The heat transfer coefficients for 67 and 67 (no agitator) are {},{} resp.\".format(h1_b,h2_b))\n",
    "print(\"The biot numbers for 67 and 67 (no agitator) are {}, {} resp.\".format(Bi_1,Bi_2))"
   ]
  },
  {
   "cell_type": "markdown",
   "metadata": {},
   "source": [
    "### Inferences from graph:"
   ]
  },
  {
   "cell_type": "markdown",
   "metadata": {},
   "source": [
    "1. The slope of the case with agitator is greater than without agitator indicating higher heat transfer coefficient in the case with an agitator.\n",
    "2. The Biot numbers are calculated from the slope obtained from the graph."
   ]
  },
  {
   "cell_type": "markdown",
   "metadata": {},
   "source": [
    "### Conclusion:\n",
    "1. The average heat transfer coefficient obtained is 384.82 W/$m^{2}$ C\n",
    "2. The heat transfer coefficient is higher in the case where agitator is switched on (712.63 W/$m^{2}$ C)\n",
    "3. The Biot number for the cases are less than 0.1, making lumped system approach possible."
   ]
  },
  {
   "cell_type": "code",
   "execution_count": null,
   "metadata": {},
   "outputs": [],
   "source": []
  }
 ],
 "metadata": {
  "kernelspec": {
   "display_name": "Python 3",
   "language": "python",
   "name": "python3"
  },
  "language_info": {
   "codemirror_mode": {
    "name": "ipython",
    "version": 3
   },
   "file_extension": ".py",
   "mimetype": "text/x-python",
   "name": "python",
   "nbconvert_exporter": "python",
   "pygments_lexer": "ipython3",
   "version": "3.8.3"
  }
 },
 "nbformat": 4,
 "nbformat_minor": 4
}
