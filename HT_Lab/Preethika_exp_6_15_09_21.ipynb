{
 "cells": [
  {
   "cell_type": "markdown",
   "metadata": {},
   "source": [
    "### <center> EXP 6 EMISSIVITY MEASUREMENT APPARATUS        \n"
   ]
  },
  {
   "cell_type": "markdown",
   "metadata": {},
   "source": [
    "### **Objective**:\n",
    "* Study of Radiation heat transfer by black body and test plate."
   ]
  },
  {
   "cell_type": "markdown",
   "metadata": {},
   "source": [
    "### **Aim**:\n",
    "* To find out the emissivity of a test plate.\n",
    "* Draw a graph between voltage verses emissivity."
   ]
  },
  {
   "cell_type": "markdown",
   "metadata": {},
   "source": [
    "### **Theory**:\n",
    "An ideal black surface is one which absorbs all the incident radiation with reflectivity and\n",
    "transmissivity equal to zero. The radiant energy per unit time per unit area from the surface of\n",
    "the body is called the emissive power and is usually denoted by ε. The emissivity of the\n",
    "surface ($E^{'}$) is the ratio of the emissive power of the surface to the emissive power of a black\n",
    "surface at the same temperature. If emissive power is noted by E, then\n",
    "\n",
    "$$E^{'} = \\frac{E}{E_b}$$\n",
    "\n",
    "For black body absorptivity = 1 and by the knowledge of Kirchhoff's Law of Emissivity,\n",
    "emissivity of the black body becomes unity. Emissivity being a property of the surface\n",
    "depends on the nature of the surface and temperature."
   ]
  },
  {
   "cell_type": "markdown",
   "metadata": {},
   "source": [
    "### **Procedure**:\n",
    "1. Gradually increase the input to the heater to black plate and adjust it to some value\n",
    "and adjust heater input to test plate slightly less than the black plate.\n",
    "2. Check the temperature of the two plates with small time intervals and adjust the input of test plate only, by the Dimmerstat so that the two plates will be maintained\n",
    "at the same temperature.\n",
    "3. This will require some trial and error and may take 30 mins or so to obtain the steady state condition.\n",
    "4. After attaining the steady state conditions record the temperatures and Voltmeter\n",
    "and Ammeter reading for both the plates. Adjust the volatge supply for the test plate lower than the black plate.\n",
    "5. The same procedure is repeated for various surface temperatures in increasing\n",
    "order of voltage in both the plates. \n"
   ]
  },
  {
   "cell_type": "markdown",
   "metadata": {},
   "source": [
    "### **Experimental Setup**:\n",
    "1. Entire setup <img src=\"full_setup.jpeg\" width=600 height=800 />\n",
    "2. Specifications <img src=\"specs.jpeg\" width=600 height=800 />"
   ]
  },
  {
   "cell_type": "markdown",
   "metadata": {},
   "source": [
    "### **Formulae**:\n",
    "1. $$\n",
    "E_{b}-E=\\frac{\\left(W_{b}-W_{t}\\right)}{A^{*} \\sigma^{*}\\left(T_{s}^{4}-T_{a}^{4}\\right)}\n",
    "$$\n",
    "\n",
    "2. $$ A = \\frac{\\pi^{*}d^{2}}{4}$$\n",
    "\n",
    "3. $$\n",
    "T_{s}=\\left[\\frac{T_{1}+T_{2}+T_{3}}{3}+273.15\\right] \\text { or }\\left[\\frac{T_{4}+T_{5}+T_{6}}{3}+273.15\\right]\n",
    "$$\n",
    "\n",
    "4. $$T_{a}=T_{7}+273.15$$\n",
    "\n",
    "5. $$W_{b}=V_{b}^{*} I_{b} $$\n",
    "\n",
    "6. $$W_{t}=V_{t}^{*} I_{t}$$\n",
    "\n"
   ]
  },
  {
   "cell_type": "markdown",
   "metadata": {},
   "source": [
    "### **Observations**:"
   ]
  },
  {
   "cell_type": "markdown",
   "metadata": {},
   "source": [
    "| Sr. No.   |  Vt   |  It   |  Vb  |  Ib  | T1    | T2   | T3   | T4   | T5   | T6   | T7   |\n",
    "| :---      |:----: | :---: | :---:|:---: |:---:  |:---: |:---: |:---: |:---: |:---: |:---: |    \n",
    "|   1       |  50   |  0.18 |  54  | 0.2  | 44.3  | 44.6 | 44.7 | 46   | 46.5 | 47   | 29.2 |\n",
    "|   2       |  60   |  0.22 |  64  | 0.25 | 55.8  | 56.2 | 56.3 | 57.5 | 56.7 | 56.8 | 28.5 |\n",
    "|   3       |  70   |  0.26 |  74  | 0.29 | 62.1  | 62.8 | 63.1 | 64.9 | 64.2 | 64.3 | 28.2 |"
   ]
  },
  {
   "cell_type": "code",
   "execution_count": 10,
   "metadata": {},
   "outputs": [],
   "source": [
    "import numpy as np\n",
    "import matplotlib.pyplot as plt"
   ]
  },
  {
   "cell_type": "code",
   "execution_count": 8,
   "metadata": {},
   "outputs": [],
   "source": [
    "#experimental data\n",
    "sigma = 5.699e-8\n",
    "d = 160e-3\n",
    "Eb = 1\n",
    "T1 = np.array([44.3,55.8,62.1])\n",
    "T2 = np.array([44.6,56.2,62.8])\n",
    "T3 = np.array([44.7,56.3,63.1])\n",
    "T4 = np.array([46,57.5,64.9])\n",
    "T5 = np.array([46.5,56.7,64.2])\n",
    "T6 = np.array([47,56.8,64.3])\n",
    "T7 = np.array([29.2,28.5,28.2])\n",
    "Vt = np.array([50,60,70])\n",
    "Vb = np.array([54,64,74])\n",
    "It = np.array([0.18,0.22,0.26])\n",
    "Ib = np.array([0.2,0.25,0.29])\n",
    "Ts = (T1 + T2 + T3)/3 + 273.15\n",
    "Ta = T7 + 273.15"
   ]
  },
  {
   "cell_type": "code",
   "execution_count": 9,
   "metadata": {},
   "outputs": [
    {
     "name": "stdout",
     "output_type": "stream",
     "text": [
      "The emmissive power is [0.14093349 0.29621744 0.36365634] W\n",
      "Wt = [ 9.  13.2 18.2] W\n",
      "Wb = [10.8  16.   21.46] W\n",
      "Ts = [317.68333333 329.25       335.81666667] K\n",
      "Ta = [302.35 301.65 301.35] K\n"
     ]
    }
   ],
   "source": [
    "#CALCULATIONS\n",
    "Wt = Vt*It\n",
    "Wb = Vb*Ib\n",
    "A = np.pi*(d**2)/4\n",
    "E = Eb - ((Wb-Wt)/(A*sigma*(Ts**4 - Ta**4)))\n",
    "print(\"The emmissive power is {} W\".format(E))\n",
    "print(\"Wt = {} W\".format(Wt))\n",
    "print(\"Wb = {} W\".format(Wb))\n",
    "print(\"Ts = {} K\".format(Ts))\n",
    "print(\"Ta = {} K\".format(Ta))"
   ]
  },
  {
   "cell_type": "markdown",
   "metadata": {},
   "source": [
    "### **Calculations**:"
   ]
  },
  {
   "cell_type": "markdown",
   "metadata": {},
   "source": [
    "| S.No. |     Wt       |      Wb      |    Ts     |       Ta     |      E       |\n",
    "|:-----:|:------------:|:------------:|:---------:|--------------|--------------|\n",
    "|   1   |       9      |     10.8     |  317.68   |   302.35     |    0.141     |\n",
    "|   2   |     13.2     |      16      |   329.25  |   301.65     |    0.296     |\n",
    "|   3   |     18.2     |     21.46    |   335.81  |   301.35     |    0.363     |"
   ]
  },
  {
   "cell_type": "markdown",
   "metadata": {},
   "source": [
    "### **Graphs**:"
   ]
  },
  {
   "cell_type": "code",
   "execution_count": 29,
   "metadata": {},
   "outputs": [
    {
     "data": {
      "image/png": "[encoded data removed]",
      "text/plain": [
       "<Figure size 432x288 with 1 Axes>"
      ]
     },
     "metadata": {
      "needs_background": "light"
     },
     "output_type": "display_data"
    }
   ],
   "source": [
    "fig, ax = plt.subplots()\n",
    "ax.plot(Vt, E)\n",
    "\n",
    "ax.set(xlabel='Voltage of test plate (V)', ylabel='Emissivity (E)',\n",
    "       title='Vt vs E')\n",
    "ax.grid()\n",
    "\n",
    "fig.savefig(\"vt.png\")\n",
    "plt.show()"
   ]
  },
  {
   "cell_type": "markdown",
   "metadata": {},
   "source": [
    "### **Inferences**:"
   ]
  },
  {
   "cell_type": "markdown",
   "metadata": {},
   "source": [
    "This experiment can be concluded by:\n",
    "1. The emissivity measurement apparatus achieved its steady state after a time interval of 40 mins.\n",
    "\n",
    "2. The radiation heat transfer by black plate, test plate and the emissivity of the test plate was calculated with the given data and using formula. The range of emissivity of the test plate wasfound be in between from 0.141-0.363 by using the black plate as reference with emissivity of 1.\n",
    "\n",
    "3. Emissivity is a property which depends on the nature of the material and the temperature."
   ]
  },
  {
   "cell_type": "markdown",
   "metadata": {},
   "source": [
    "### **Recommendations**:\n",
    "1. The experiment can be continued for a longer time so that the system attains a uniform flow of heat transfer coefficient.\n",
    "2. Improved insulation for the apparatus.\n",
    "3. The black plate is fully blackened so that the body absorbs and emits radiation energy uniformly in all directions.\n"
   ]
  },
  {
   "cell_type": "markdown",
   "metadata": {},
   "source": [
    "### **Industrial Application**:\n",
    "In aerospace applications, the investigation of the physical properties of the materials used as thermal protection systems (TPSs) is mandatory. One of the most important material properties involved in the prediction and measurement of the aerothermal loads is the material surface emissivity. In fact, to set properly optical devices operating in the infrared region of light, it is necessary to know the material emissivity for the measurement of the temperature at surface. In order to perform such analysis during the development of a test in a hypersonic plasma ground simulator, various techniques have been devised to for the investigation of the spectral emissivity by properly using dual-color pyrometers. This helps in the identification of suitable material for space re-entry vehicles."
   ]
  }
 ],
 "metadata": {
  "kernelspec": {
   "display_name": "Python 3",
   "language": "python",
   "name": "python3"
  },
  "language_info": {
   "codemirror_mode": {
    "name": "ipython",
    "version": 3
   },
   "file_extension": ".py",
   "mimetype": "text/x-python",
   "name": "python",
   "nbconvert_exporter": "python",
   "pygments_lexer": "ipython3",
   "version": "3.8.3"
  }
 },
 "nbformat": 4,
 "nbformat_minor": 4
}
