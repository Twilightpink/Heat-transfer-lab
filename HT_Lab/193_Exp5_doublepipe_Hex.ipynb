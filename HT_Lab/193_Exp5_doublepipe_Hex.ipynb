{
 "cells": [
  {
   "cell_type": "markdown",
   "metadata": {},
   "source": [
    "### <center> EXP 5 DOUBLE PIPE HEAT EXCHANGER"
   ]
  },
  {
   "cell_type": "markdown",
   "metadata": {},
   "source": [
    "### **Objective**:\n",
    "* To study the heat transfer phenomena in parallel / counter flow arrangements in a double pipe heat exchanger."
   ]
  },
  {
   "cell_type": "markdown",
   "metadata": {},
   "source": [
    "### Aim:\n",
    "* To calculate overall heat transfer coefficient for both type of heat exchanger. \n",
    "* Draw a graph between flow rate (x-axis) against heat transfer co-efficient."
   ]
  },
  {
   "cell_type": "markdown",
   "metadata": {},
   "source": [
    "### Theory:\n",
    "A transfer type of heat exchanger is the one in which both fluids pass simultaneously through the device and heat is transferred through separating walls. In practice most of the heat exchangers used are transfer type ones.\n",
    "The transfer type exchangers are further classified according to flow arrangement as:\n",
    "1. Parallel flow in which fluids flow in the same direction.\n",
    "2. Counter flow in which they flow in opposite direction and\n",
    "3. Cross flow in which they flow at right angles to each other."
   ]
  },
  {
   "cell_type": "markdown",
   "metadata": {},
   "source": [
    "### Procedure:\n",
    "**Starting Procedure:**\n",
    "1. Clean the apparatus and make Water Bath free from Dust.\n",
    "2. Close all the drain valves provided.\n",
    "3. Fill Water Bath 3⁄4 with Clean Water and ensure that no foreign particles are present in it.\n",
    "4. Connect Cold water supply to the inlet of Cold water Rotameter Line.\n",
    "5. Set the flow of cold water to any one of the flow arrangements (parallel or counter) by adjusting the valves provided.\n",
    "6. Connect Outlet of Cold water to Drain.\n",
    "7. Ensure that all On/Off Switches given on the Panel are at OFF position.\n",
    "8. Now switch on the Main Power Supply (220 V AC, 50 Hz).\n",
    "9. Switch on Heater by operating Rotary Switch given on the Panel.\n",
    "10. Set Temperature of the Water Bath with the help of Digital Temperature Controller.\n",
    "11. Open Flow Control Valve and Bypass Valve for Hot Water Supply.\n",
    "12. Switch on Magnetic Pump for Hot Water supply.\n",
    "13. Adjust Hot water and Cold water flow rate with the help of Control Valve and rotameter.\n",
    "14. Record the temperatures of Hot and Cold water Inlet & Outlet when steady state is achieved.\n",
    "15. Repeat the procedure for another flow arrangement.\n",
    "\n",
    "**Closing Procedure:**\n",
    "1. When experiment is over, Switch off heater first.\n",
    "2. Switch off Magnetic Pump for Hot Water supply.\n",
    "3. Switch off Power Supply to Panel.\n",
    "4. Stop cold water supply with the help of Flow Control Valve.\n",
    "5. Stop Hot water supply with the help of Flow Control Valve.\n",
    "6. Drain Water Bath with the help of Drain valve.\n"
   ]
  },
  {
   "cell_type": "markdown",
   "metadata": {},
   "source": [
    "### Formulae:\n",
    "<img src=\"double_formula.png\" width=500 height=700 />"
   ]
  },
  {
   "cell_type": "markdown",
   "metadata": {},
   "source": [
    "### Experimental Setup:\n",
    "<img src=\"exp_5_setup.png\" width=500 height=700 />"
   ]
  },
  {
   "cell_type": "markdown",
   "metadata": {},
   "source": [
    "### Observations and Calculations:"
   ]
  },
  {
   "cell_type": "code",
   "execution_count": 43,
   "metadata": {},
   "outputs": [],
   "source": [
    "import numpy as np\n",
    "import pandas as pd\n",
    "from matplotlib import pyplot as plt"
   ]
  },
  {
   "cell_type": "markdown",
   "metadata": {},
   "source": [
    "#### Parallel:"
   ]
  },
  {
   "cell_type": "code",
   "execution_count": 67,
   "metadata": {},
   "outputs": [],
   "source": [
    "di = 0.0095\n",
    "do = 0.0127\n",
    "l = 1.6\n",
    "#Calculations\n",
    "Thi = np.array([54.6,53.3])\n",
    "Tho = np.array([52.6,52.8])\n",
    "Tci = np.array([31.4,35.2])\n",
    "Tco = np.array([40.8,40.2])\n",
    "Fc = np.array([50,75])\n",
    "Fh = 225\n",
    "Th_avg = (Thi+Tho)/2\n",
    "Tc_avg = (Tci+Tco)/2\n",
    "rho_h = 986.16\n",
    "rho_c = 993.57\n",
    "cph = 4179\n",
    "cpc = 4174"
   ]
  },
  {
   "cell_type": "code",
   "execution_count": 68,
   "metadata": {},
   "outputs": [],
   "source": [
    "mh = (Fh*rho_h)/(3600*1000)\n",
    "qh = mh*cph*(Thi-Tho)\n",
    "mc = (Fc*rho_c)/(3600*1000)\n",
    "qc = mc*cpc*(Tco-Tci)\n",
    "Q = (qh+qc)/2\n",
    "delT1 = Thi - Tci\n",
    "delT2 = Tho - Tco\n",
    "delTm = (delT2 - delT1)/(np.log(delT2/delT1))\n",
    "ai = np.pi*di*l\n",
    "ao = np.pi*do*l\n",
    "ui = Q/(ai*delTm)\n",
    "uo = Q/(ao*delTm)"
   ]
  },
  {
   "cell_type": "code",
   "execution_count": 69,
   "metadata": {},
   "outputs": [
    {
     "name": "stdout",
     "output_type": "stream",
     "text": [
      "    Thi   Tho   Tci   Tco           Q          Ui          Uo\n",
      "0  54.6  52.6  31.4  40.8  528.290131  656.076931  490.766208\n",
      "1  53.3  52.8  35.2  40.2  280.391144  386.700491  289.264147\n"
     ]
    }
   ],
   "source": [
    "obs1 = pd.DataFrame({'Thi':Thi,\n",
    "                     'Tho':Tho,\n",
    "                     'Tci':Tci,\n",
    "                     'Tco':Tco,\n",
    "                     'Q':Q,\n",
    "                    'Ui':ui,\n",
    "                    'Uo':uo,})\n",
    "print(obs1)"
   ]
  },
  {
   "cell_type": "markdown",
   "metadata": {},
   "source": [
    "#### Countercurrent:"
   ]
  },
  {
   "cell_type": "code",
   "execution_count": 70,
   "metadata": {},
   "outputs": [],
   "source": [
    "Thi = np.array([47.8,47.4])\n",
    "Tho = np.array([44.8,46.9])\n",
    "Tci = np.array([29.8,35.8])\n",
    "Tco = np.array([38.1,44])\n",
    "Fc = np.array([50,75])\n",
    "Fh = 225\n",
    "Th_avg = (Thi+Tho)/2\n",
    "Tc_avg = (Tci+Tco)/2\n",
    "rho_h = 989.63\n",
    "rho_c = np.array([994.3,992.08])\n",
    "cph = 4174\n",
    "cpc = 4174\n"
   ]
  },
  {
   "cell_type": "code",
   "execution_count": 71,
   "metadata": {},
   "outputs": [],
   "source": [
    "mh = (Fh*rho_h)/(3600*1000)\n",
    "qh = mh*cph*(Thi-Tho)\n",
    "mc = (Fc*rho_c)/(3600*1000)\n",
    "qc = mc*cpc*(Tco-Tci)\n",
    "Q = (qh+qc)/2\n",
    "delT1 = Thi - Tco\n",
    "delT2 = Tho - Tci\n",
    "delTm = (delT2 - delT1)/(np.log(delT2/delT1))\n",
    "ai = np.pi*di*l\n",
    "ao = np.pi*do*l\n",
    "ui_c = Q/(ai*delTm)\n",
    "uo_c = Q/(ao*delTm)"
   ]
  },
  {
   "cell_type": "code",
   "execution_count": 72,
   "metadata": {},
   "outputs": [
    {
     "name": "stdout",
     "output_type": "stream",
     "text": [
      "    Thi   Tho   Tci   Tco           Q           Ui           Uo\n",
      "0  47.8  44.8  29.8  38.1  626.467979  1079.047695   807.161662\n",
      "1  47.4  46.9  35.8  44.0  418.247887  1345.849820  1006.738054\n"
     ]
    }
   ],
   "source": [
    "obs2 = pd.DataFrame({'Thi':Thi,\n",
    "                     'Tho':Tho,\n",
    "                     'Tci':Tci,\n",
    "                     'Tco':Tco,\n",
    "                     'Q':Q,\n",
    "                    'Ui':ui_c,\n",
    "                    'Uo':uo_c,})\n",
    "print(obs2)"
   ]
  },
  {
   "cell_type": "markdown",
   "metadata": {},
   "source": [
    "### Graph"
   ]
  },
  {
   "cell_type": "code",
   "execution_count": 81,
   "metadata": {},
   "outputs": [
    {
     "data": {
      "image/png": "[encoded data removed]",
      "text/plain": [
       "<Figure size 432x288 with 1 Axes>"
      ]
     },
     "metadata": {
      "needs_background": "light"
     },
     "output_type": "display_data"
    }
   ],
   "source": [
    "plt.plot(Fc,uo, label = \"Uo (Parallel)\")\n",
    "plt.plot(Fc,ui, label = \"Ui (Parallel)\")\n",
    "plt.plot(Fc,uo_c, label = \"Uo (Counter)\")\n",
    "plt.plot(Fc,ui_c, label = \"Ui (Counter)\")\n",
    "plt.xlabel(\"Cold water flow rate (LPH)\")\n",
    "plt.ylabel(\"Heat transfer coefficient (W/$m^{2}$ C)\")\n",
    "plt.legend()\n",
    "plt.ylim([50, 1500])\n",
    "plt.grid()\n",
    "plt.show()"
   ]
  },
  {
   "cell_type": "markdown",
   "metadata": {},
   "source": [
    "### Conclusions/Inferences:"
   ]
  },
  {
   "cell_type": "markdown",
   "metadata": {},
   "source": [
    "1. Overall heat transfer coefficients were obtained for parallel and counter courrent flow.\n",
    "2. The overall heat transfer coefficient is higher in the counterflow case and the peak is at lower flow rate.\n",
    "3. In the case of parallel flow, the peak occurs at higher flowrate.\n",
    "4. Therefore counter flow has greater heat transfer coefficient and is the better one."
   ]
  },
  {
   "cell_type": "markdown",
   "metadata": {},
   "source": [
    "### Reccomendations:\n",
    "1. More reading at different cold water flow rates can be taken for a better conclusion.\n",
    "2. The cold water can be maintained in a fixed temperature to prevent temperature fluctuations."
   ]
  },
  {
   "cell_type": "markdown",
   "metadata": {},
   "source": [
    "### Industrial Applications:\n",
    "Double-pipe heat exchangers are used in many industries because of their low design and maintenance costs, flexibility, and low installation costs. They are mainly used for sensible heating or cooling of process fluids in applications of small heat transfer areas of up to 50 $m^{2}$ "
   ]
  }
 ],
 "metadata": {
  "kernelspec": {
   "display_name": "Python 3",
   "language": "python",
   "name": "python3"
  },
  "language_info": {
   "codemirror_mode": {
    "name": "ipython",
    "version": 3
   },
   "file_extension": ".py",
   "mimetype": "text/x-python",
   "name": "python",
   "nbconvert_exporter": "python",
   "pygments_lexer": "ipython3",
   "version": "3.8.3"
  }
 },
 "nbformat": 4,
 "nbformat_minor": 4
}
