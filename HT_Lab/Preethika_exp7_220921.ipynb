{
 "cells": [
  {
   "cell_type": "markdown",
   "metadata": {},
   "source": [
    "### <center> EXP 7  Dropwise and Filmwise Condensation"
   ]
  },
  {
   "cell_type": "markdown",
   "metadata": {},
   "source": [
    "### **Objective**:\n",
    "* To study the Dropwise and Filmwise condensation phenomena."
   ]
  },
  {
   "cell_type": "markdown",
   "metadata": {},
   "source": [
    "### **Aim**:\n",
    "* To determine the inside and outside heat transfer coefficient of Filmwise and Dropwise condensers.\n",
    "* To compare overall heat transfer coefficient of dropwise and filmwise condenser."
   ]
  },
  {
   "cell_type": "markdown",
   "metadata": {},
   "source": [
    "### **Theory**:\n",
    "\n",
    "**Condensation Heat Transfer:**\n",
    "\n",
    "The process of condensation is the reverse of boiling. Whenever a saturated vapor comes in contact with a surface at a lower temperature, condensation occurs. There are two modes of condensation: \n",
    "\n",
    "a) filmwise, in which the condensate wets the surface forming a continuous film, which covers the entire surface, and \n",
    "\n",
    "b) dropwise, in which the vapor condenses into small liquid droplets of various sizes, which fall down the surface in a random fashion.\n",
    "\n",
    "Unless specially treated, most materials are wettable & as condensation occur a film condensate spreads over the surface. In this type of condensation, the film covering the entire surface grows in thickness as it moves down the surface by gravity. Fresh vapor condenses on to the outside of the film & heat is transferred by conduction through the film to the metal surface beneath. There exists a thermal gradient in the film and so it acts as a resistance to heat transfer.\n",
    "\n",
    "By specially treating the condensing surface, the contact angle can be changed and the surface becomes ‘non-wettable’. By modifying the surface properties using additives and surface coatings, it is possible to achieve dropwise condensation. It is generally difficult to maintain this type of condensation for long time. Condensation that starts as dropwise generally converted into filmwise condensation after some time. Hence, in all practical applications filmwise condensation is assumed. In order to minimize the thermal resistance of the condensing film, length of the surface is kept small.\n",
    "In dropwise condensation a large portion of the area of the plate is directly exposed to the vapor, making heat transfer rates much larger (5 to10 times) than those in filmwise condensation.\n",
    " "
   ]
  },
  {
   "cell_type": "markdown",
   "metadata": {},
   "source": [
    "### **Procedure** :\n",
    "**Starting Procedure:**\n",
    "1. Ensure that ON/OFF switches given on the panel are at OFF position.\n",
    "2. Close all the drain valves.\n",
    "3. Open the funnel valve and air vent valve provided at the top of steam generator.\n",
    "4. Fill water in the steam generator up to 3/4th of its capacity by observing the level of water in the level indicator.\n",
    "5. Close the funnel valve and air vent valve.\n",
    "6. Switch On the main supply.\n",
    "7. Set the temperature of required steam with the help of DTC, say 100 $^{\\circ}C$.\n",
    "8. Switch ON the heater and wait until steam temperature reaches to required value.\n",
    "9. Ensure that wet steam vent valve and needle valve provided at front are closed.\n",
    "10. Allow steam to pass through the pipe and slowly open wet steam vent valve to release wet steam from the pipe.\n",
    "11. Close the vent valve.\n",
    "12. Connect cooling water supply.\n",
    "13. Open the valve to allow cooling water to flow through desired condenser (Ensure that during experiment, water is flowing only through the condenser under test\n",
    "and second valve is closed).\n",
    "14. Set the flow rate of cooling water by Rota meter.\n",
    "15. Open the needle valve slowly to allow steam to enter in the test section and start\n",
    "the stopwatch to measure mass of steam condensed.\n",
    "16. Observe that the Steam is condensed on the tubes, and falls down in the glass\n",
    "cylinder (Depending upon type of condenser under test Dropwise or Filmwise\n",
    "condensation can be visualized.)\n",
    "17. After steady state, record the temperature, flow rate of cooling water, pressure.\n",
    "18. Close the needle valve.\n",
    "19. Stop the Stopwatch and open the drain valve of the glass chamber to measure the\n",
    "condensate for particular time.\n",
    "Closing Procedure:\n",
    "1. When experiment is over, switch OFF the heater.\n",
    "2. Partially open air vent valve at steam generator to release the steam.\n",
    "3. Stop cooling water supply to the condenser.\n",
    "4. Switch OFF main supply.\n",
    "5. Drain the apparatus completely after getting cool.\n"
   ]
  },
  {
   "cell_type": "markdown",
   "metadata": {},
   "source": [
    "### **Experimental Setup** :\n",
    "1. Entire setup <img src=\"setup_condens.jpeg\" width=600 height=800 />\n",
    "2. Glass chamber <img src=\"glass_chamber.jpeg\" width=300 height=250 />\n",
    "3. Pressure gauge <img src=\"gauge.jpeg\" width=300 height=250 />"
   ]
  },
  {
   "cell_type": "markdown",
   "metadata": {},
   "source": [
    "### **Observations** :\n",
    "<img src=\"obs.png\" width=600 height=650 />"
   ]
  },
  {
   "cell_type": "markdown",
   "metadata": {},
   "source": [
    "### **Formulae** :\n",
    "1. $$\n",
    "h_{\\text {of } f i l m}=0.926 k_{L}\\left[\\frac{g \\rho_{L}^{2}}{\\mu_{L} \\Gamma_{v}}\\right]^{\\frac{1}{3}}\n",
    "$$\n",
    "<br/>\n",
    "2. $$\\\\\n",
    "R e_{c}=\\frac{4 \\Gamma_{v}}{\\mu_{L}}\n",
    "$$ \n",
    "<br/>\n",
    "3. $$\n",
    "\\Gamma_{v}=\\frac{W_{c}}{N_{t} \\pi d_{0}}\n",
    "$$\n",
    "<br/>\n",
    "4. $$\n",
    "N u_{d}=0.023\\left(R e_{d}\\right)^{0.8}(P r)^{n} \\text { (Dittus -Boelter equation} \\text {) }\n",
    "$$\n",
    "<br/>\n",
    "5. $$\n",
    "N u_{d}=1.86\\left(R e_{d}P r\\right)^{1/3} \\text { (Sieder and Tate equation} \\text {) }\n",
    "$$\n",
    "<br/>\n",
    "6. $$\n",
    "\\frac{1}{U_{i}}=\\frac{1}{h_{i}}+\\frac{d_{i}}{d_{o}} \\frac{1}{h_{o}}\n",
    "$$\n"
   ]
  },
  {
   "cell_type": "code",
   "execution_count": 86,
   "metadata": {},
   "outputs": [],
   "source": [
    "import numpy as np"
   ]
  },
  {
   "cell_type": "code",
   "execution_count": 74,
   "metadata": {},
   "outputs": [
    {
     "name": "stdout",
     "output_type": "stream",
     "text": [
      "45.6 76.96666666666667 37 38.9\n"
     ]
    }
   ],
   "source": [
    "#general data\n",
    "d0 = 0.019\n",
    "di = 0.016\n",
    "L = 0.175\n",
    "Ai = 0.00879\n",
    "A0 = 0.010445\n",
    "#Experimental data\n",
    "#For dropwise\n",
    "mw = 40                               #lph\n",
    "T2 = np.mean([44.8,45.3,46.7])        #Temperature of surface of chrome plated condensor\n",
    "T3 = np.mean([77.1,77.2,76.6])        #Temperature of steam in the column\n",
    "T4 = np.array([37])                   #water inlet temp\n",
    "T5 = np.mean([39,38.8,38.9])          #water outlet temp\n",
    "vdrop = 102                 #ml\n",
    "t = 15                      #min\n",
    "ms = vdrop/t                #ml/min\n",
    "lambda_s = 2257.2           #kJ/kg\n",
    "print(T2,T3,T4[0],T5)"
   ]
  },
  {
   "cell_type": "code",
   "execution_count": 77,
   "metadata": {},
   "outputs": [
    {
     "name": "stdout",
     "output_type": "stream",
     "text": [
      "The average heat transfered Q = 168.36077414948883 W\n",
      "Reynolds no. : 1287.721140648624\n",
      "Nusselt no. : 33.482634347113446\n",
      "Inside heat transfer coefficient empirical : 1318.378727417592 W/m2 C\n",
      "Δ T_m = 10.50920221408782\n",
      "Inside heat transfer coefficient from  experiment is :1822.5619128049245 W/m2 C\n",
      "Outside heat transfer coefficient from  experiment is :1533.7787662570881 W/m2 C\n"
     ]
    }
   ],
   "source": [
    "rho_s = 973.7632               #linear interpolation\n",
    "rho_w = 993.25                 #linear interpolation\n",
    "Cp_w = 4178.5\n",
    "M_s = (ms*rho_s*1e-6)/60       #in kg/s\n",
    "M_w = (mw*rho_w*1e-3)/3600     #in kg/s\n",
    "Q_s = M_s*lambda_s*1e3\n",
    "Q_w = M_w*Cp_w*(T5-T4)\n",
    "Qavg = (Q_w + Q_s)/2\n",
    "print(\"The average heat transfered Q = {} W\".format(Qavg[0]))\n",
    "\n",
    "#Inside heat transfer coefficient\n",
    "#data taken from JP Holman tbk 10th edition\n",
    "Tb = (T4+T5)/2\n",
    "rho = 993\n",
    "mu = 6.82e-4\n",
    "Pr = 4.53\n",
    "k = 0.63\n",
    "V = (M_w/rho)*(4/(np.pi*(di**2)))\n",
    "Re_d = (rho*V*di)/mu\n",
    "\n",
    "def Nud (Pr,Re_d):\n",
    "    if (Re_d > 2500):\n",
    "        return 0.023*(Re_d**(0.8))*(Pr**(0.4))\n",
    "    elif (Re_d < 2500):\n",
    "        return 1.86*(Re_d*Pr)**(1/3)\n",
    "Nu = Nud(Pr,Re_d)\n",
    "hi = Nu*k/di\n",
    "print(\"Reynolds no. : {}\".format(Re_d))\n",
    "print(\"Nusselt no. : {}\".format(Nu))\n",
    "print(\"Inside heat transfer coefficient empirical : {} W/m2 C\".format(hi))\n",
    "\n",
    "#hi value from experimental data\n",
    "delT1 = T3 - T2\n",
    "delT2 = T5 - T4\n",
    "#using LMTD\n",
    "delTM = (delT2 - delT1)/(np.log(delT2/delT1))\n",
    "print(\"\\u0394 T_m = {}\".format(delTM[0]))\n",
    "hi_exp = Qavg/(Ai*delTM)\n",
    "print(\"Inside heat transfer coefficient from  experiment is :{} W/m2 C\".format(hi_exp[0]))\n",
    "\n",
    "#h0 value from experimental data\n",
    "h0_exp = Qavg/(A0*delTM)\n",
    "print(\"Outside heat transfer coefficient from  experiment is :{} W/m2 C\".format(h0_exp[0]))"
   ]
  },
  {
   "cell_type": "code",
   "execution_count": 78,
   "metadata": {},
   "outputs": [
    {
     "name": "stdout",
     "output_type": "stream",
     "text": [
      "The overall heat transfer coefficient in dropwise is 910.9809507004771 W/m2 C\n"
     ]
    }
   ],
   "source": [
    "#overall heat transfer coefficients\n",
    "ui_drop = hi_exp*d0*h0_exp/(d0*h0_exp + di*hi_exp)\n",
    "print(\"The overall heat transfer coefficient in dropwise is {} W/m2 C\" .format(ui_drop[0]))"
   ]
  },
  {
   "cell_type": "code",
   "execution_count": 79,
   "metadata": {},
   "outputs": [
    {
     "name": "stdout",
     "output_type": "stream",
     "text": [
      "39.63333333333333 74.10000000000001 [33.1] [34.2]\n"
     ]
    }
   ],
   "source": [
    "#For filmwise\n",
    "T1 = np.mean([39.4,39.9,39.6])         #Temperature of surface of plain copper condensor\n",
    "T3 = np.mean([73.8,75.3,73.2])         #Temperature of steam in the column\n",
    "T4 = np.array([33.1])                  #water inlet temp\n",
    "T5 = np.array([34.2])                  #water outlet temp\n",
    "vfilm = 90                  #ml\n",
    "t = 15                      #min\n",
    "fl_film = vfilm/t\n",
    "print(T1,T3,T4,T5)"
   ]
  },
  {
   "cell_type": "code",
   "execution_count": 80,
   "metadata": {},
   "outputs": [
    {
     "name": "stdout",
     "output_type": "stream",
     "text": [
      "The average heat transfered Q = 135.5418648527778 W\n",
      "Reynolds no. : 1181.9997549426132\n",
      "Nusselt no. : 33.538679951598986\n",
      "Inside heat transfer coefficient : 1308.0085181123604\n",
      "Δ T_m = 9.68642733507122\n",
      "Inside heat transfer coefficient from  experiment is :1591.9189650230908 W/m2 C\n"
     ]
    }
   ],
   "source": [
    "#properties at T3 = 74 for steam \n",
    "#properties of cooling water at T4 = 33.1\n",
    "ms = 6\n",
    "mw = 40\n",
    "rho_s = 975.47                 #linear interpolation\n",
    "rho_w = 993.25                 #linear interpolation\n",
    "Cp_w = 4192.9\n",
    "M_s = (ms*rho_s*1e-6)/60       #in kg/s\n",
    "M_w = (mw*rho_w*1e-3)/3600     #in kg/s\n",
    "Q_s = M_s*lambda_s*1e3\n",
    "Q_w = M_w*Cp_w*(T5-T4)\n",
    "Qavg = (Q_w + Q_s)/2\n",
    "print(\"The average heat transfered Q = {} W\".format(Qavg[0]))\n",
    "\n",
    "#Inside heat transfer coefficient\n",
    "Tb = (T4+T5)/2\n",
    "rho = 994.4\n",
    "mu = 7.43e-4\n",
    "Pr = 4.96\n",
    "k = 0.624\n",
    "V = (M_w/rho)*(4/(np.pi*(di**2)))\n",
    "Re_d = (rho*V*di)/mu\n",
    "\n",
    "def Nud (Pr,Re_d):\n",
    "    if (Re_d > 2500):\n",
    "        return 0.023*(Re_d**(0.8))*(Pr**(0.4))\n",
    "    elif (Re_d < 2500):\n",
    "        return 1.86*(Re_d*Pr)**(1/3)\n",
    "Nu = Nud(Pr,Re_d)\n",
    "hi = Nu*k/di\n",
    "print(\"Reynolds no. : {}\".format(Re_d))\n",
    "print(\"Nusselt no. : {}\".format(Nu))\n",
    "print(\"Inside heat transfer coefficient : {}\".format(hi))\n",
    "\n",
    "#hi value from experimental data\n",
    "delT1 = T3 - T1\n",
    "delT2 = T5 - T4\n",
    "#using LMTD\n",
    "delTM = (delT2 - delT1)/(np.log(delT2/delT1))\n",
    "print(\"\\u0394 T_m = {}\".format(delTM[0]))\n",
    "hi_exp = Qavg/(Ai*delTM)\n",
    "print(\"Inside heat transfer coefficient from  experiment is :{} W/m2 C\".format(hi_exp[0]))"
   ]
  },
  {
   "cell_type": "code",
   "execution_count": 81,
   "metadata": {},
   "outputs": [
    {
     "name": "stdout",
     "output_type": "stream",
     "text": [
      "The outside heat transfer cofficient (empirical):933.5237558872556 W/m2 C\n",
      "The outside heat transfer coefficient from  experiment is :1339.680967214262 W/m2 C\n"
     ]
    }
   ],
   "source": [
    "#outside heat transfer coefficient for filmwise\n",
    "Tb = (T1+T3)/2\n",
    "N_t = 1\n",
    "g = 9.81\n",
    "rho_l = 998.72\n",
    "mu_l = 1.158\n",
    "k_l = 0.583\n",
    "Pr_l = 8.184\n",
    "vert_tube_load = M_s/(N_t*np.pi*d0)\n",
    "Re_l = 4*vert_tube_load/mu_l\n",
    "ho_l = 0.926*k_l*(g*(rho_l**2)/(mu_l*vert_tube_load))**(1/3)\n",
    "print(\"The outside heat transfer cofficient (empirical):{} W/m2 C\" .format(ho_l))\n",
    "#ho from experiment\n",
    "h0_exp = Qavg/(A0*delTM)\n",
    "print(\"The outside heat transfer coefficient from  experiment is :{} W/m2 C\".format(h0_exp[0]))"
   ]
  },
  {
   "cell_type": "code",
   "execution_count": 84,
   "metadata": {},
   "outputs": [
    {
     "name": "stdout",
     "output_type": "stream",
     "text": [
      "The overall heat transfer coefficient for film wise from experiment: 795.6974421587596 W/m2 C\n",
      "The overall heat transfer coefficient for film wise from empirical relation: 600.0266616662199 W/m2 C\n"
     ]
    }
   ],
   "source": [
    "#overall heat transfer coefficients\n",
    "ui_film = hi_exp*d0*h0_exp/(d0*h0_exp + di*hi_exp)\n",
    "ui_empr = hi*d0*ho_l/(d0*ho_l + di*hi)\n",
    "print(\"The overall heat transfer coefficient for film wise from experiment: {} W/m2 C\" .format(ui_film[0]))\n",
    "print(\"The overall heat transfer coefficient for film wise from empirical relation: {} W/m2 C\" .format(ui_empr))"
   ]
  },
  {
   "cell_type": "markdown",
   "metadata": {},
   "source": [
    "### **Results :**"
   ]
  },
  {
   "cell_type": "markdown",
   "metadata": {},
   "source": [
    "For **Dropwise**,\n",
    "\n",
    "The overall heat transfer coeffcient is 910.98 $ W/m^{2} s$\n",
    "\n",
    "For **Filmwise**,\n",
    "\n",
    "The overall heat transfer coeffcient from empirical formula is 600.026 $ W/m^{2} s$\n",
    "\n",
    "The overall heat transfer coeffcient from experiment is 795.697 $ W/m^{2} s$"
   ]
  },
  {
   "cell_type": "markdown",
   "metadata": {},
   "source": [
    "### **Inferences** :"
   ]
  },
  {
   "cell_type": "markdown",
   "metadata": {},
   "source": [
    "The following conclusions can be made from the experiment:\n",
    "1. From both the empirical and experimental calculation that dropwise condensation has the highest heat \n",
    " transfer coefficient (by a factor of 1.5) compared to the filmwise.\n",
    "2. Formation of film creates more resistance thereby reducing the heat transfer coefficient.\n",
    "3. Ambiguity arises in the experimental and empirical results due to the errors caused in the experiment. \n",
    "4. Results may vary from theory to some degree due to unavoidable heat losses from the glass tube walls.\n",
    " "
   ]
  },
  {
   "cell_type": "markdown",
   "metadata": {},
   "source": [
    "### **Recommendations**:\n",
    "1. The current setup encloses both the condensor within a glass chamber. This design can be improved by providing separate chambers as it will result in the precise measurement of condensate collected.\n",
    "2. The glass chamber can be constructed using a material in which dropwise condensation is minimized. As in the existing model there is condensate contribution from the glass chamber which in turn affects the reading.\n",
    "2. Improved insulation for the apparatus.\n",
    "3. The cooling water supply is to be maintained in a thermally insulated area."
   ]
  },
  {
   "cell_type": "markdown",
   "metadata": {},
   "source": [
    "### **Industrial Applications :**"
   ]
  },
  {
   "cell_type": "markdown",
   "metadata": {},
   "source": [
    "From wearable devices and wireless sensors tracking cargo on ships, to outdoor electronics, more devices are subjected to harsh environments than ever before. Gasketing and sealing enclosures, in addition to being extremely costly, often leave circuitry vulnerable to condensation. One solution is to give barrier coatings to provide a perfect pinhole-free dielectric insulator whose barrier properties helps protect sensitive electronics from water & salt spray, sweat, solvents, sunscreen, vapors, and dust while adding negligible weight & thickness. This utlimately prevents dropwise condensation on its surface. "
   ]
  }
 ],
 "metadata": {
  "kernelspec": {
   "display_name": "Python 3",
   "language": "python",
   "name": "python3"
  },
  "language_info": {
   "codemirror_mode": {
    "name": "ipython",
    "version": 3
   },
   "file_extension": ".py",
   "mimetype": "text/x-python",
   "name": "python",
   "nbconvert_exporter": "python",
   "pygments_lexer": "ipython3",
   "version": "3.8.3"
  }
 },
 "nbformat": 4,
 "nbformat_minor": 4
}
