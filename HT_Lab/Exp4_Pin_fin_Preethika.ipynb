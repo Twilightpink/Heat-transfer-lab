{
 "cells": [
  {
   "cell_type": "markdown",
   "metadata": {},
   "source": [
    "### <center> **Experiment 4   Heat Transfer from a Pin Fin**"
   ]
  },
  {
   "cell_type": "markdown",
   "metadata": {},
   "source": [
    "### Objective: \n",
    "\n",
    "1. To study the conduction of heat transfer from a pin fin."
   ]
  },
  {
   "cell_type": "markdown",
   "metadata": {},
   "source": [
    "### Aim: \n",
    "1. To study the temperature distribution along the length of a pin fin under free and forced convection heat transfer.\n",
    "2. Draw a graph between flow rate and heat transfer coefficient & efficiency for different voltage settings."
   ]
  },
  {
   "cell_type": "markdown",
   "metadata": {},
   "source": [
    "### Theory:\n",
    "\n",
    "It is obvious that a fin surface stick out from primary heat transfer surface. The temperature difference with surrounding fluid will steadily diminish as one move out along the fin. The design of the fins therefore requires knowledge of the temperature distribution in the fin. The main object of this experimental set up is to study the temperature distribution in a simple pin fin.\n",
    "\n",
    "Fin efficiency = $\\epsilon$ = tanh (mL) /mL\n",
    "\n",
    "The temperature profile within a pin fin is given by:\n",
    "[T-Tf] / [Tb – Tf] = [cosh m (L-x) +H sinh m (L-x)]/ [cosh mL + H sinh mL]\n"
   ]
  },
  {
   "cell_type": "markdown",
   "metadata": {},
   "source": [
    "### Experimental Procedure: \n",
    "**Natural Convection:**\n",
    "1. Start heating the fin by switching on the heater element and adjust the voltage by Dimmerstat. (Increase slowly from 0 onwards)\n",
    "2. Start recording temperatures at each five minute interval until observing three consecutive readings are same.\n",
    "3. Record the final steady state readings of Temperature Sensor No.1 to 6.\n",
    "4. Repeat the same experiment for different heat input by varying voltage by\n",
    "Dimmerstat.\n",
    "\n",
    "**Forced Convections:**\n",
    "1. Start heating the fin by switching on the heater and adjust voltage by dimmerstat.\n",
    "2. Start the blower and adjust the flow of air with the help of fly valve provided on\n",
    "the outlet pipe.\n",
    "3. Start recording temperatures at each five minute interval until observing three\n",
    "consecutive readings are same.\n",
    "4. Record the pressure difference across the orifice by the manometer.\n",
    "5. Repeat the experiment for different air flow rate and different heat input."
   ]
  },
  {
   "cell_type": "markdown",
   "metadata": {},
   "source": [
    "### Formulae:"
   ]
  },
  {
   "cell_type": "markdown",
   "metadata": {},
   "source": [
    "#### Free Convection:\n",
    "\n",
    "1. Mean temperature of the fin, $T_{m}$\n",
    "$$T_{m}=\\frac{T_{1}+T_{2}+T_{3}+T_{4}+T_{5}}{5}$$\n",
    "\n",
    "2. Temperature of the fluid, $T_{f}$\n",
    "$$T_{f} = T_{6}$$\n",
    "\n",
    "3. Grashof No\n",
    "$$G_{r}=\\frac{g * \\beta * D^{3} * \\Delta T}{v^{2}}$$\n",
    "$$\\beta=\\frac{1}{T_{m f}+273.15} \\quad T_{m f}=\\frac{T_{m}+T_{f}}{2}$$\n",
    "\n",
    "4. Nusselt number\n",
    "$$N_{u}=0.53 *\\left(G_{r} * P_{r}\\right)^{1 / 4}$$\n",
    "\n",
    "5. Fin parameter\n",
    "$$m=\\sqrt{\\frac{h * C}{\\boldsymbol{k}_{b} * A}}$$\n",
    "$$C=\\pi * D \\quad A=\\frac{\\pi * D^{2}}{4}$$\n",
    "\n",
    "6. Fin efficiency\n",
    "$$\\varepsilon=\\frac{\\tanh (m * L)}{m^{*} L}$$\n",
    "\n",
    "7. Fin parameter\n",
    "$$\\boldsymbol{H}=\\frac{h}{k_{b} * m}$$\n",
    "\n",
    "8. Temperature profile:\n",
    "$$\\frac{T-T_{f}}{T_{b}-T_{f}}=\\frac{[\\operatorname{Cosh}(m(L-x))+H * \\operatorname{Sinh}(m(L-x))]}{\\left[\\operatorname{Cosh}(m L)+H^{*} \\operatorname{Sinh}(m L)\\right]}$$"
   ]
  },
  {
   "cell_type": "markdown",
   "metadata": {},
   "source": [
    "#### Forced Convection:\n",
    "\n",
    "1. Mean temperature of the fin, $T_{m}$\n",
    "$$T_{m}=\\frac{T_{1}+T_{2}+T_{3}+T_{4}+T_{5}}{5}$$\n",
    "\n",
    "2. Temperature of the fluid, $T_{f}$\n",
    "$$T_{f} = T_{6}$$\n",
    "\n",
    "3. Volumetric flow rate of air\n",
    "$$Q=\\frac{C_{d} * a_{o} * a_{p} * \\sqrt{(2 * g * \\Delta H)}}{\\sqrt{\\left(a_{p}^{2}-a_{0}^{2}\\right)}} \\quad, \\quad \\Delta H=\\Delta h *\\left(\\frac{\\rho_{w}}{\\rho_{a}}-1\\right)$$\n",
    "\n",
    "4. Velocity of air at mean fluid temperature ($T_{mf}$)\n",
    "$$V_{1}=V *\\left[\\frac{T_{m f}+273.15}{T_{f}+273.15}\\right], \\quad R_{e}=\\frac{V_{1}^{*} \\rho_{a}^{*} D}{\\mu}$$\n",
    "\n",
    "5. Nusselt number\n",
    "$$N_{u}=0.615 * Re^{0.466}$$\n",
    "\n",
    "7. Temperature profile:\n",
    "$$\\frac{T-T_{f}}{T_{b}-T_{f}}=\\frac{[\\operatorname{Cosh}(m(L-x))+H * \\operatorname{Sinh}(m(L-x))]}{\\left[\\operatorname{Cosh}(m L)+H^{*} \\operatorname{Sinh}(m L)\\right]}$$"
   ]
  },
  {
   "cell_type": "markdown",
   "metadata": {},
   "source": [
    "### Observations and Calculations:"
   ]
  },
  {
   "cell_type": "code",
   "execution_count": 22,
   "metadata": {},
   "outputs": [],
   "source": [
    "import numpy as np\n",
    "import pandas as pd\n",
    "from matplotlib import pyplot as plt"
   ]
  },
  {
   "cell_type": "code",
   "execution_count": 105,
   "metadata": {},
   "outputs": [
    {
     "name": "stdout",
     "output_type": "stream",
     "text": [
      "The Nusselt number is 3.1259\n",
      "The heat transfer coefficent is 7.3855 W/m2 C\n",
      "The fin efficiency is 86.7810 %\n",
      "The fin parameter is 0.0145\n"
     ]
    }
   ],
   "source": [
    "#Experimental data for free convection\n",
    "T_1 = np.array([45.1,43.4,41.5,40.8,39.6,25.6])\n",
    "V = 51\n",
    "I = 0.4\n",
    "Tm = np.mean(T_1)\n",
    "Tf = T_1[5]\n",
    "Tmf = (Tf + Tm)/2\n",
    "beta = 1/(Tmf+273.15)\n",
    "Pr = 0.706\n",
    "D = 12.71e-3\n",
    "nu = 16.25e-6\n",
    "g = 9.81\n",
    "L = 150e-3\n",
    "kair=0.03003\n",
    "kb = 111\n",
    "delT = Tmf - Tf\n",
    "Gr = g*beta*(D**3)*delT/(nu**2)\n",
    "Nu = .53*(Pr*Gr)**0.25\n",
    "h = Nu*kair/D\n",
    "Tm+273.15\n",
    "A = np.pi*(D**2)/4\n",
    "C = np.pi*D\n",
    "m = np.sqrt(h*C/(kb*A))\n",
    "Eta_free = np.tanh(m*L)/(m*L)\n",
    "H_free = h/(kb*m)\n",
    "print(\"The Nusselt number is {:.4f}\".format(Nu))\n",
    "print(\"The heat transfer coefficent is {:.4f} W/m2 C\".format(h))\n",
    "print(\"The fin efficiency is {:.4f} %\".format(Eta_free*100))\n",
    "print(\"The fin parameter is {:.4f}\".format(H_free))"
   ]
  },
  {
   "cell_type": "code",
   "execution_count": 106,
   "metadata": {},
   "outputs": [
    {
     "data": {
      "image/png": "[encoded data removed]",
      "text/plain": [
       "<Figure size 432x288 with 1 Axes>"
      ]
     },
     "metadata": {
      "needs_background": "light"
     },
     "output_type": "display_data"
    }
   ],
   "source": [
    "#Graph\n",
    "Tb = T_1[0]\n",
    "x = np.linspace(0,L,100)\n",
    "deno = Tb - Tf\n",
    "rhs = (np.cosh(m*(L-x)) + H_free*(np.sinh(m*(L-x))))/(np.cosh(m*L) + H_free*np.sinh(m*L))\n",
    "T_free = (deno*rhs)+Tf\n",
    "plt.plot(x,T_free,label=\"Free convection\",color='g')\n",
    "plt.xlabel(\"Length of pin fin (m)\")\n",
    "plt.ylabel(\"Temperature\")\n",
    "plt.legend()\n",
    "plt.grid()"
   ]
  },
  {
   "cell_type": "code",
   "execution_count": 113,
   "metadata": {},
   "outputs": [],
   "source": [
    "#Forced convection\n",
    "rho_air = 1.16\n",
    "rho_w = 997.1\n",
    "mu = 0.00002\n",
    "g = 9.81\n",
    "kair = 0.02896\n",
    "kb = 95\n",
    "T_1 = np.array([36.5,34.5,32.1,31.1,29.7])\n",
    "T_2 = np.array([35.3,33.3,30.8,29.8,28.4])\n",
    "Tf_1 = 23.3\n",
    "Tf_2 = 23.1\n",
    "Tm_1 = np.mean(T_1)\n",
    "Tm_2 = np.mean(T_2)\n",
    "Tmf_1 = (Tm_1 + Tf_1)/2\n",
    "Tmf_2 = (Tm_2 + Tf_2)/2\n",
    "d0 = 0.026\n",
    "dp = 0.052\n",
    "a0 = (np.pi*d0**2)/4\n",
    "ap = (np.pi*dp**2)/4\n",
    "cd = 0.64\n",
    "d_fin = 12.7e-3\n",
    "L_fin = 150e-3\n",
    "delh1 = 4.4\n",
    "delh2 = 9.5\n",
    "delH1 = delh1*((rho_w/rho_air) - 1)\n",
    "delH2 = delh2*((rho_w/rho_air) - 1)\n",
    "Q1 = cd*a0*ap*np.sqrt(2*g*delH1)/np.sqrt(ap**2 - a0**2)\n",
    "Q2 = cd*a0*ap*np.sqrt(2*g*delH2)/np.sqrt(ap**2 - a0**2)\n",
    "V1 = Q1/ap\n",
    "V2 = Q2/ap\n",
    "#Reynolds number of air\n",
    "V1_1 = V1*((Tmf_1 + 273.15)/(T_6_1 + 273.15))\n",
    "V1_2 = V2*((Tmf_2 + 273.15)/(T_6_2 + 273.15))\n",
    "Re1 = V1_1*rho_air*d_fin/mu\n",
    "Re2 = V1_2*rho_air*d_fin/mu\n",
    "Nu1 = 0.615*(Re1**0.466)\n",
    "Nu2 = 0.615*(Re2**0.466)\n",
    "h1 = Nu1*kair/d_fin\n",
    "h2 = Nu2*kair/d_fin\n",
    "C = np.pi*d_fin\n",
    "A = np.pi*(d_fin**2)/4\n",
    "m1 = np.sqrt((h1*C)/(kb*A))\n",
    "m2 = np.sqrt((h2*C)/(kb*A))\n",
    "H1 = h1/(kb*m1)\n",
    "H2 = h2/(kb*m2)\n",
    "eta1 = np.tanh(m1*L_fin)/(m1*L_fin)\n",
    "eta2 = np.tanh(m2*L_fin)/(m2*L_fin)"
   ]
  },
  {
   "cell_type": "markdown",
   "metadata": {},
   "source": [
    "### Calculations:"
   ]
  },
  {
   "cell_type": "code",
   "execution_count": 114,
   "metadata": {},
   "outputs": [
    {
     "name": "stdout",
     "output_type": "stream",
     "text": [
      "          Nu           h          m      eta %\n",
      "0  79.169696  180.531842  24.464888  27.214568\n",
      "1  94.643235  215.816384  26.749061  24.906686\n"
     ]
    }
   ],
   "source": [
    "Nu = np.array([Nu1,Nu2])\n",
    "h = np.array([h1,h2])\n",
    "m = np.array([m1,m2])\n",
    "H = np.array([H1,H2])\n",
    "eta = np.array([eta1,eta2])*100\n",
    "calc2 = pd.DataFrame({'Nu':Nu,\n",
    "                     'h':h, 'm':m,'eta %':eta})\n",
    "print(calc2)"
   ]
  },
  {
   "cell_type": "code",
   "execution_count": 116,
   "metadata": {},
   "outputs": [
    {
     "data": {
      "image/png": "[encoded data removed]",
      "text/plain": [
       "<Figure size 432x288 with 1 Axes>"
      ]
     },
     "metadata": {
      "needs_background": "light"
     },
     "output_type": "display_data"
    }
   ],
   "source": [
    "#Graph\n",
    "Tb = T_1[0]\n",
    "x = np.linspace(0,L_fin,100)\n",
    "\n",
    "deno1 = Tb - Tf_1\n",
    "rhs1 = (np.cosh(m1*(L_fin-x)) + H1*(np.sinh(m1*(L_fin-x))))/(np.cosh(m1*L_fin) + H1*np.sinh(m1*L_fin))\n",
    "T_force1 = (deno1*rhs1)+Tf_1\n",
    "\n",
    "deno2 = T_2[0] - Tf_2\n",
    "rhs2 = (np.cosh(m2*(L_fin-x)) + H2*(np.sinh(m2*(L_fin-x))))/(np.cosh(m2*L_fin) + H2*np.sinh(m2*L_fin))\n",
    "T_force2 = (deno2*rhs2)+Tf_2\n",
    "\n",
    "plt.plot(x,T_force1,label=\"h = 4.4 cm\",color='red')\n",
    "plt.plot(x,T_force2,label='h = 9.5 cm',color='blue')\n",
    "plt.xlabel(\"Length of pin fin (m)\")\n",
    "plt.ylabel(\"Temperature\")\n",
    "plt.legend()\n",
    "plt.grid()"
   ]
  },
  {
   "cell_type": "markdown",
   "metadata": {},
   "source": [
    "### Combined Graph:"
   ]
  },
  {
   "cell_type": "code",
   "execution_count": 119,
   "metadata": {},
   "outputs": [
    {
     "data": {
      "image/png": "[encoded data removed]",
      "text/plain": [
       "<Figure size 432x288 with 1 Axes>"
      ]
     },
     "metadata": {
      "needs_background": "light"
     },
     "output_type": "display_data"
    }
   ],
   "source": [
    "plt.plot(x,T_force1,label=\"h = 4.4 cm\",color='red')\n",
    "plt.plot(x,T_force2,label='h = 9.5 cm',color='blue')\n",
    "plt.plot(x,T_free,label=\"Free convection\",color='g')\n",
    "plt.xlabel(\"Length of pin fin (m)\")\n",
    "plt.ylabel(\"Temperature (C)\")\n",
    "plt.legend()\n",
    "plt.grid()\n",
    "plt.show()"
   ]
  },
  {
   "cell_type": "markdown",
   "metadata": {},
   "source": [
    "### Inference from Graph:"
   ]
  },
  {
   "cell_type": "markdown",
   "metadata": {},
   "source": [
    "1. The graph for temperature variation across the length of fin is plotted for all the three sets of readings.\n",
    "2. The forced convection at head = 9.5 cm shows the steepest slope indicating faster cooling compared to free convection."
   ]
  },
  {
   "cell_type": "markdown",
   "metadata": {},
   "source": [
    "### Conclusions:\n",
    "1. The fin efficiency in the case of free convection is the highest and the fin parameter is also the lowest. This is because the fin is responsible for most of the heat transfer from the surface as the role of ambient air is minimal.\n",
    "2. The fin efficiency decreases in the case of forced convection as convective heat transfer is primarily due to the air flowing with a given velocity compared to that from the fin."
   ]
  },
  {
   "cell_type": "markdown",
   "metadata": {},
   "source": [
    "### Industrial Applications:\n",
    "\n",
    "Rectangular, stepped and elliptical pin-fins are commonly used in the space vehicles for effective cooling. They are also used in semiconductor processors, chips etc. where heat removal is essential."
   ]
  },
  {
   "cell_type": "code",
   "execution_count": null,
   "metadata": {},
   "outputs": [],
   "source": []
  }
 ],
 "metadata": {
  "kernelspec": {
   "display_name": "Python 3",
   "language": "python",
   "name": "python3"
  },
  "language_info": {
   "codemirror_mode": {
    "name": "ipython",
    "version": 3
   },
   "file_extension": ".py",
   "mimetype": "text/x-python",
   "name": "python",
   "nbconvert_exporter": "python",
   "pygments_lexer": "ipython3",
   "version": "3.8.3"
  }
 },
 "nbformat": 4,
 "nbformat_minor": 4
}
